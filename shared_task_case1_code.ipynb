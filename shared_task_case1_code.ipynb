{
 "cells": [
  {
   "cell_type": "markdown",
   "id": "81f2488c-bd0b-4ff2-b9ec-01df0227acf8",
   "metadata": {
    "jp-MarkdownHeadingCollapsed": true
   },
   "source": [
    "# Necessary Installations"
   ]
  },
  {
   "cell_type": "code",
   "execution_count": 5,
   "id": "b80b7b12-dead-4f1f-a74e-870eddecc14b",
   "metadata": {
    "scrolled": true
   },
   "outputs": [
    {
     "name": "stdout",
     "output_type": "stream",
     "text": [
      "Defaulting to user installation because normal site-packages is not writeable\n",
      "Requirement already satisfied: spacy in ./.local/lib/python3.11/site-packages (3.7.4)\n",
      "Requirement already satisfied: spacy-legacy<3.1.0,>=3.0.11 in ./.local/lib/python3.11/site-packages (from spacy) (3.0.12)\n",
      "Requirement already satisfied: spacy-loggers<2.0.0,>=1.0.0 in ./.local/lib/python3.11/site-packages (from spacy) (1.0.5)\n",
      "Requirement already satisfied: murmurhash<1.1.0,>=0.28.0 in ./.local/lib/python3.11/site-packages (from spacy) (1.0.10)\n",
      "Requirement already satisfied: cymem<2.1.0,>=2.0.2 in ./.local/lib/python3.11/site-packages (from spacy) (2.0.8)\n",
      "Requirement already satisfied: preshed<3.1.0,>=3.0.2 in ./.local/lib/python3.11/site-packages (from spacy) (3.0.9)\n",
      "Requirement already satisfied: thinc<8.3.0,>=8.2.2 in ./.local/lib/python3.11/site-packages (from spacy) (8.2.3)\n",
      "Requirement already satisfied: wasabi<1.2.0,>=0.9.1 in ./.local/lib/python3.11/site-packages (from spacy) (0.10.1)\n",
      "Requirement already satisfied: srsly<3.0.0,>=2.4.3 in ./.local/lib/python3.11/site-packages (from spacy) (2.4.8)\n",
      "Requirement already satisfied: catalogue<2.1.0,>=2.0.6 in ./.local/lib/python3.11/site-packages (from spacy) (2.0.10)\n",
      "Requirement already satisfied: weasel<0.4.0,>=0.1.0 in ./.local/lib/python3.11/site-packages (from spacy) (0.3.4)\n",
      "Collecting typer<0.10.0,>=0.3.0 (from spacy)\n",
      "  Downloading typer-0.9.4-py3-none-any.whl.metadata (14 kB)\n",
      "Requirement already satisfied: smart-open<7.0.0,>=5.2.1 in ./.local/lib/python3.11/site-packages (from spacy) (6.4.0)\n",
      "Requirement already satisfied: tqdm<5.0.0,>=4.38.0 in ./.local/lib/python3.11/site-packages (from spacy) (4.66.1)\n",
      "Requirement already satisfied: requests<3.0.0,>=2.13.0 in /opt/modules/Python/3.11.5/lib/python3.11/site-packages (from spacy) (2.31.0)\n",
      "Requirement already satisfied: pydantic!=1.8,!=1.8.1,<3.0.0,>=1.7.4 in ./.local/lib/python3.11/site-packages (from spacy) (2.6.4)\n",
      "Requirement already satisfied: jinja2 in /opt/modules/Python/3.11.5/lib/python3.11/site-packages (from spacy) (3.1.2)\n",
      "Requirement already satisfied: setuptools in /opt/modules/Python/3.11.5/lib/python3.11/site-packages (from spacy) (69.0.2)\n",
      "Requirement already satisfied: packaging>=20.0 in /opt/modules/Python/3.11.5/lib/python3.11/site-packages (from spacy) (23.2)\n",
      "Requirement already satisfied: langcodes<4.0.0,>=3.2.0 in ./.local/lib/python3.11/site-packages (from spacy) (3.3.0)\n",
      "Requirement already satisfied: numpy>=1.19.0 in /opt/modules/Python/3.11.5/lib/python3.11/site-packages (from spacy) (1.26.2)\n",
      "Requirement already satisfied: annotated-types>=0.4.0 in ./.local/lib/python3.11/site-packages (from pydantic!=1.8,!=1.8.1,<3.0.0,>=1.7.4->spacy) (0.6.0)\n",
      "Requirement already satisfied: pydantic-core==2.16.3 in ./.local/lib/python3.11/site-packages (from pydantic!=1.8,!=1.8.1,<3.0.0,>=1.7.4->spacy) (2.16.3)\n",
      "Requirement already satisfied: typing-extensions>=4.6.1 in /opt/modules/Python/3.11.5/lib/python3.11/site-packages (from pydantic!=1.8,!=1.8.1,<3.0.0,>=1.7.4->spacy) (4.9.0)\n",
      "Requirement already satisfied: charset-normalizer<4,>=2 in /opt/modules/Python/3.11.5/lib/python3.11/site-packages (from requests<3.0.0,>=2.13.0->spacy) (3.3.2)\n",
      "Requirement already satisfied: idna<4,>=2.5 in /opt/modules/Python/3.11.5/lib/python3.11/site-packages (from requests<3.0.0,>=2.13.0->spacy) (3.6)\n",
      "Requirement already satisfied: urllib3<3,>=1.21.1 in ./.local/lib/python3.11/site-packages (from requests<3.0.0,>=2.13.0->spacy) (1.26.18)\n",
      "Requirement already satisfied: certifi>=2017.4.17 in /opt/modules/Python/3.11.5/lib/python3.11/site-packages (from requests<3.0.0,>=2.13.0->spacy) (2023.11.17)\n",
      "Requirement already satisfied: blis<0.8.0,>=0.7.8 in ./.local/lib/python3.11/site-packages (from thinc<8.3.0,>=8.2.2->spacy) (0.7.11)\n",
      "Requirement already satisfied: confection<1.0.0,>=0.0.1 in ./.local/lib/python3.11/site-packages (from thinc<8.3.0,>=8.2.2->spacy) (0.1.4)\n",
      "Requirement already satisfied: click<9.0.0,>=7.1.1 in ./.local/lib/python3.11/site-packages (from typer<0.10.0,>=0.3.0->spacy) (8.1.7)\n",
      "Requirement already satisfied: cloudpathlib<0.17.0,>=0.7.0 in ./.local/lib/python3.11/site-packages (from weasel<0.4.0,>=0.1.0->spacy) (0.16.0)\n",
      "Requirement already satisfied: MarkupSafe>=2.0 in /opt/modules/Python/3.11.5/lib/python3.11/site-packages (from jinja2->spacy) (2.1.3)\n",
      "Downloading typer-0.9.4-py3-none-any.whl (45 kB)\n",
      "\u001b[2K   \u001b[90m━━━━━━━━━━━━━━━━━━━━━━━━━━━━━━━━━━━━━━━━\u001b[0m \u001b[32m46.0/46.0 kB\u001b[0m \u001b[31m6.6 MB/s\u001b[0m eta \u001b[36m0:00:00\u001b[0m\n",
      "\u001b[?25hInstalling collected packages: typer\n",
      "  Attempting uninstall: typer\n",
      "    Found existing installation: typer 0.10.0\n",
      "    Uninstalling typer-0.10.0:\n",
      "      Successfully uninstalled typer-0.10.0\n",
      "\u001b[31mERROR: pip's dependency resolver does not currently take into account all the packages that are installed. This behaviour is the source of the following dependency conflicts.\n",
      "en-core-web-sm 3.5.0 requires spacy<3.6.0,>=3.5.0, but you have spacy 3.7.4 which is incompatible.\n",
      "medspacy 1.1.5 requires spacy<3.6,>=3.4.1, but you have spacy 3.7.4 which is incompatible.\u001b[0m\u001b[31m\n",
      "\u001b[0mSuccessfully installed typer-0.9.4\n",
      "Note: you may need to restart the kernel to use updated packages.\n"
     ]
    }
   ],
   "source": [
    "pip install --upgrade spacy"
   ]
  },
  {
   "cell_type": "code",
   "execution_count": 5,
   "id": "bf3782bf-906c-4c86-9d1d-637ef87896af",
   "metadata": {
    "scrolled": true
   },
   "outputs": [
    {
     "name": "stdout",
     "output_type": "stream",
     "text": [
      "Defaulting to user installation because normal site-packages is not writeable\n",
      "Requirement already satisfied: typer in ./.local/lib/python3.11/site-packages (0.3.2)\n",
      "Collecting typer\n",
      "  Downloading typer-0.10.0-py3-none-any.whl.metadata (14 kB)\n",
      "Requirement already satisfied: click in ./.local/lib/python3.11/site-packages (7.1.2)\n",
      "Collecting click\n",
      "  Downloading click-8.1.7-py3-none-any.whl.metadata (3.0 kB)\n",
      "Requirement already satisfied: typing-extensions>=3.7.4.3 in /opt/modules/PythonCentOS7/3.11.5/lib/python3.11/site-packages (from typer) (4.9.0)\n",
      "Downloading typer-0.10.0-py3-none-any.whl (46 kB)\n",
      "\u001b[2K   \u001b[90m━━━━━━━━━━━━━━━━━━━━━━━━━━━━━━━━━━━━━━━━\u001b[0m \u001b[32m46.0/46.0 kB\u001b[0m \u001b[31m8.2 MB/s\u001b[0m eta \u001b[36m0:00:00\u001b[0m\n",
      "\u001b[?25hDownloading click-8.1.7-py3-none-any.whl (97 kB)\n",
      "\u001b[2K   \u001b[90m━━━━━━━━━━━━━━━━━━━━━━━━━━━━━━━━━━━━━━━━\u001b[0m \u001b[32m97.9/97.9 kB\u001b[0m \u001b[31m16.6 MB/s\u001b[0m eta \u001b[36m0:00:00\u001b[0m\n",
      "\u001b[?25hInstalling collected packages: click, typer\n",
      "  Attempting uninstall: click\n",
      "    Found existing installation: click 7.1.2\n",
      "    Uninstalling click-7.1.2:\n",
      "      Successfully uninstalled click-7.1.2\n",
      "  Attempting uninstall: typer\n",
      "    Found existing installation: typer 0.3.2\n",
      "    Uninstalling typer-0.3.2:\n",
      "      Successfully uninstalled typer-0.3.2\n",
      "\u001b[31mERROR: pip's dependency resolver does not currently take into account all the packages that are installed. This behaviour is the source of the following dependency conflicts.\n",
      "spacy 3.7.4 requires typer<0.10.0,>=0.3.0, but you have typer 0.10.0 which is incompatible.\n",
      "en-core-web-sm 3.5.0 requires spacy<3.6.0,>=3.5.0, but you have spacy 3.7.4 which is incompatible.\n",
      "weasel 0.3.4 requires typer<0.10.0,>=0.3.0, but you have typer 0.10.0 which is incompatible.\n",
      "medspacy 1.1.5 requires spacy<3.6,>=3.4.1, but you have spacy 3.7.4 which is incompatible.\u001b[0m\u001b[31m\n",
      "\u001b[0mSuccessfully installed click-8.1.7 typer-0.10.0\n",
      "Note: you may need to restart the kernel to use updated packages.\n"
     ]
    }
   ],
   "source": [
    "pip install --upgrade typer click"
   ]
  },
  {
   "cell_type": "code",
   "execution_count": 6,
   "id": "3d05c417-f29d-40f1-8c8c-e4533309c0b0",
   "metadata": {
    "scrolled": true
   },
   "outputs": [
    {
     "name": "stdout",
     "output_type": "stream",
     "text": [
      "Defaulting to user installation because normal site-packages is not writeable\n",
      "Requirement already satisfied: openai==0.28 in ./.local/lib/python3.11/site-packages (0.28.0)\n",
      "Requirement already satisfied: requests>=2.20 in /opt/modules/Python/3.11.5/lib/python3.11/site-packages (from openai==0.28) (2.31.0)\n",
      "Requirement already satisfied: tqdm in ./.local/lib/python3.11/site-packages (from openai==0.28) (4.66.1)\n",
      "Requirement already satisfied: aiohttp in ./.local/lib/python3.11/site-packages (from openai==0.28) (3.9.1)\n",
      "Requirement already satisfied: charset-normalizer<4,>=2 in /opt/modules/Python/3.11.5/lib/python3.11/site-packages (from requests>=2.20->openai==0.28) (3.3.2)\n",
      "Requirement already satisfied: idna<4,>=2.5 in /opt/modules/Python/3.11.5/lib/python3.11/site-packages (from requests>=2.20->openai==0.28) (3.6)\n",
      "Requirement already satisfied: urllib3<3,>=1.21.1 in ./.local/lib/python3.11/site-packages (from requests>=2.20->openai==0.28) (1.26.18)\n",
      "Requirement already satisfied: certifi>=2017.4.17 in /opt/modules/Python/3.11.5/lib/python3.11/site-packages (from requests>=2.20->openai==0.28) (2023.11.17)\n",
      "Requirement already satisfied: attrs>=17.3.0 in /opt/modules/Python/3.11.5/lib/python3.11/site-packages (from aiohttp->openai==0.28) (23.1.0)\n",
      "Requirement already satisfied: multidict<7.0,>=4.5 in ./.local/lib/python3.11/site-packages (from aiohttp->openai==0.28) (6.0.4)\n",
      "Requirement already satisfied: yarl<2.0,>=1.0 in ./.local/lib/python3.11/site-packages (from aiohttp->openai==0.28) (1.9.4)\n",
      "Requirement already satisfied: frozenlist>=1.1.1 in ./.local/lib/python3.11/site-packages (from aiohttp->openai==0.28) (1.4.1)\n",
      "Requirement already satisfied: aiosignal>=1.1.2 in ./.local/lib/python3.11/site-packages (from aiohttp->openai==0.28) (1.3.1)\n",
      "Note: you may need to restart the kernel to use updated packages.\n"
     ]
    }
   ],
   "source": [
    "pip install openai==0.28"
   ]
  },
  {
   "cell_type": "markdown",
   "id": "207bbd9e-59ca-43d5-b54f-ba2f9a2d7406",
   "metadata": {
    "jp-MarkdownHeadingCollapsed": true
   },
   "source": [
    "# Necessary Imports"
   ]
  },
  {
   "cell_type": "code",
   "execution_count": 24,
   "id": "346f58a4-0dce-40e2-8156-48be46b7cdb7",
   "metadata": {},
   "outputs": [],
   "source": [
    "import json\n",
    "from collections import Counter\n",
    "import os\n",
    "import spacy\n",
    "import ast\n",
    "from spacy import displacy\n",
    "import requests\n",
    "import time\n",
    "import re\n",
    "import numpy as np\n",
    "import seaborn as sns\n",
    "import matplotlib.pyplot as plt\n",
    "from sklearn.metrics import confusion_matrix, precision_score, recall_score, f1_score, accuracy_score, classification_report\n",
    "import matplotlib.pyplot as plt\n",
    "# from wordcloud import WordCloud, STOPWORDS\n",
    "import pandas as pd\n",
    "pd.set_option('display.max_rows', None)  # None means show all rows\n",
    "pd.set_option('display.max_columns', None)  # None means show all columns\n",
    "pd.set_option('display.width', None)  # None means auto-detect the display width\n",
    "pd.set_option('display.max_colwidth', None)  # None means show full width of columns\n",
    "import openai\n",
    "openai.api_type = \"azure\"\n",
    "openai.api_base = <your api base>\n",
    "openai.api_version = <api version>\n",
    "openai.api_key = <api key>"
   ]
  },
  {
   "cell_type": "code",
   "execution_count": 25,
   "id": "ffee001e-b8f0-47b5-b0c4-883d947284d5",
   "metadata": {},
   "outputs": [],
   "source": [
    "df_train_ms = pd.read_csv('MEDIQA-CORR-2024-MS-TrainingData.csv')\n",
    "df_val_ms = pd.read_csv('MEDIQA-CORR-2024-MS-ValidationSet-1-Full.csv')\n",
    "df_val_uw = pd.read_csv('MEDIQA-CORR-2024-UW-ValidationSet-1-Full_Feb.csv')"
   ]
  },
  {
   "cell_type": "code",
   "execution_count": 26,
   "id": "386aa082-d204-4c7c-9c53-2863802f380e",
   "metadata": {},
   "outputs": [
    {
     "data": {
      "text/plain": [
       "(2189, 9)"
      ]
     },
     "execution_count": 26,
     "metadata": {},
     "output_type": "execute_result"
    }
   ],
   "source": [
    "df_train_ms.shape"
   ]
  },
  {
   "cell_type": "code",
   "execution_count": 5,
   "id": "c74fc06d-27bb-46ce-8968-4e6ba408ce01",
   "metadata": {},
   "outputs": [
    {
     "data": {
      "text/html": [
       "<div>\n",
       "<style scoped>\n",
       "    .dataframe tbody tr th:only-of-type {\n",
       "        vertical-align: middle;\n",
       "    }\n",
       "\n",
       "    .dataframe tbody tr th {\n",
       "        vertical-align: top;\n",
       "    }\n",
       "\n",
       "    .dataframe thead th {\n",
       "        text-align: right;\n",
       "    }\n",
       "</style>\n",
       "<table border=\"1\" class=\"dataframe\">\n",
       "  <thead>\n",
       "    <tr style=\"text-align: right;\">\n",
       "      <th></th>\n",
       "      <th>Unnamed: 0</th>\n",
       "      <th>Text ID</th>\n",
       "      <th>Text</th>\n",
       "      <th>Sentences</th>\n",
       "      <th>Error Flag</th>\n",
       "      <th>Error Sentence ID</th>\n",
       "      <th>Error Sentence</th>\n",
       "      <th>Corrected Sentence</th>\n",
       "      <th>Corrected Text</th>\n",
       "    </tr>\n",
       "  </thead>\n",
       "  <tbody>\n",
       "    <tr>\n",
       "      <th>2092</th>\n",
       "      <td>2092</td>\n",
       "      <td>ms-train-2092</td>\n",
       "      <td>A 55-year-old patient is brought to the emerge...</td>\n",
       "      <td>0 A 55-year-old patient is brought to the emer...</td>\n",
       "      <td>1</td>\n",
       "      <td>7</td>\n",
       "      <td>Nitroglycerin was administered to the patient ...</td>\n",
       "      <td>Patient's aspirin dose is increased based on t...</td>\n",
       "      <td>A 55-year-old patient is brought to the emerge...</td>\n",
       "    </tr>\n",
       "    <tr>\n",
       "      <th>1387</th>\n",
       "      <td>1387</td>\n",
       "      <td>ms-train-1387</td>\n",
       "      <td>A 4-year old boy is brought to the emergency d...</td>\n",
       "      <td>0 A 4-year old boy is brought to the emergency...</td>\n",
       "      <td>0</td>\n",
       "      <td>-1</td>\n",
       "      <td>NaN</td>\n",
       "      <td>NaN</td>\n",
       "      <td>NaN</td>\n",
       "    </tr>\n",
       "    <tr>\n",
       "      <th>2123</th>\n",
       "      <td>2123</td>\n",
       "      <td>ms-train-2123</td>\n",
       "      <td>A previously healthy 8-year-old boy is brought...</td>\n",
       "      <td>0 A previously healthy 8-year-old boy is broug...</td>\n",
       "      <td>0</td>\n",
       "      <td>-1</td>\n",
       "      <td>NaN</td>\n",
       "      <td>NaN</td>\n",
       "      <td>NaN</td>\n",
       "    </tr>\n",
       "  </tbody>\n",
       "</table>\n",
       "</div>"
      ],
      "text/plain": [
       "      Unnamed: 0        Text ID  \\\n",
       "2092        2092  ms-train-2092   \n",
       "1387        1387  ms-train-1387   \n",
       "2123        2123  ms-train-2123   \n",
       "\n",
       "                                                   Text  \\\n",
       "2092  A 55-year-old patient is brought to the emerge...   \n",
       "1387  A 4-year old boy is brought to the emergency d...   \n",
       "2123  A previously healthy 8-year-old boy is brought...   \n",
       "\n",
       "                                              Sentences  Error Flag  \\\n",
       "2092  0 A 55-year-old patient is brought to the emer...           1   \n",
       "1387  0 A 4-year old boy is brought to the emergency...           0   \n",
       "2123  0 A previously healthy 8-year-old boy is broug...           0   \n",
       "\n",
       "      Error Sentence ID                                     Error Sentence  \\\n",
       "2092                  7  Nitroglycerin was administered to the patient ...   \n",
       "1387                 -1                                                NaN   \n",
       "2123                 -1                                                NaN   \n",
       "\n",
       "                                     Corrected Sentence  \\\n",
       "2092  Patient's aspirin dose is increased based on t...   \n",
       "1387                                                NaN   \n",
       "2123                                                NaN   \n",
       "\n",
       "                                         Corrected Text  \n",
       "2092  A 55-year-old patient is brought to the emerge...  \n",
       "1387                                                NaN  \n",
       "2123                                                NaN  "
      ]
     },
     "execution_count": 5,
     "metadata": {},
     "output_type": "execute_result"
    }
   ],
   "source": [
    "df_train_ms.sample(3)"
   ]
  },
  {
   "cell_type": "markdown",
   "id": "9b6501c8-73ef-40ac-bc79-700e14836cde",
   "metadata": {
    "jp-MarkdownHeadingCollapsed": true
   },
   "source": [
    "# Creating a subset from these files (For testing purposes):\n",
    "\n",
    "1. MEDIQA-CORR-2024-MS-TrainingData.csv\n",
    "2. MEDIQA-CORR-2024-MS-ValidationSet-1-Full.csv\n",
    "3. MEDIQA-CORR-2024-UW-ValidationSet-1-Full_Feb.csv"
   ]
  },
  {
   "cell_type": "code",
   "execution_count": 158,
   "id": "3f9bdfcd-dd27-4eea-8723-f826c800fc21",
   "metadata": {},
   "outputs": [
    {
     "name": "stdout",
     "output_type": "stream",
     "text": [
      "df_train_ms: (2189, 8)\n",
      "df_val_ms: (574, 8)\n",
      "df_val_uw: (160, 8)\n",
      "Combined dataframe: (2923, 8)\n"
     ]
    }
   ],
   "source": [
    "df_train_ms = pd.read_csv('MEDIQA-CORR-2024-MS-TrainingData.csv',index_col=0)\n",
    "df_val_ms = pd.read_csv('MEDIQA-CORR-2024-MS-ValidationSet-1-Full.csv',index_col=0)\n",
    "df_val_uw = pd.read_csv('MEDIQA-CORR-2024-UW-ValidationSet-1-Full_Feb.csv',index_col=0)\n",
    "min_count = min(df_combined['Error Flag'].value_counts().min(), 50)\n",
    "sampled_df = df_combined.groupby('Error Flag').sample(n=min_count, random_state=42)\n",
    "sampled_df = sampled_df.sample(frac=1, random_state=42).reset_index(drop=True)\n",
    "\n",
    "columns_to_merge = [\"Text ID\", \"GPT_4_error_flag\", \"GPT_4_sentence_id\", \"GPT_4_Error_Sentence\", \"GPT_4_Corrected_Sentence\"]\n",
    "case_1_df = pd.read_csv('case_1.csv')\n",
    "sampled_df = sampled_df.merge(case_1_df[columns_to_merge], on=\"Text ID\", how=\"left\")\n",
    "sampled_df[[\"GPT_4_error_flag\", \"GPT_4_sentence_id\", \"GPT_4_Error_Sentence\", \"GPT_4_Corrected_Sentence\"]] = sampled_df[[\"GPT_4_error_flag\", \"GPT_4_sentence_id\", \"GPT_4_Error_Sentence\", \"GPT_4_Corrected_Sentence\"]].fillna('')\n",
    "\n",
    "sampled_df.to_csv('sampled_ms_uw_df_ea_shared_task.csv',index=False)"
   ]
  },
  {
   "cell_type": "code",
   "execution_count": 181,
   "id": "ca964de2-88f4-40a7-b340-724a817cf3c4",
   "metadata": {},
   "outputs": [
    {
     "name": "stdout",
     "output_type": "stream",
     "text": [
      "df_train_ms: (2189, 8)\n",
      "df_val_ms: (574, 8)\n",
      "df_val_uw: (160, 8)\n",
      "Combined dataframe: (2923, 8)\n"
     ]
    },
    {
     "data": {
      "text/plain": [
       "(202, 8)"
      ]
     },
     "execution_count": 181,
     "metadata": {},
     "output_type": "execute_result"
    }
   ],
   "source": [
    "df_train_ms = pd.read_csv('MEDIQA-CORR-2024-MS-TrainingData.csv',index_col=0)\n",
    "df_val_ms = pd.read_csv('MEDIQA-CORR-2024-MS-ValidationSet-1-Full.csv',index_col=0)\n",
    "df_val_uw = pd.read_csv('MEDIQA-CORR-2024-UW-ValidationSet-1-Full_Feb.csv',index_col=0)\n",
    "\n",
    "df_combined = pd.concat([df_train_ms, df_val_ms, df_val_uw], ignore_index=True)\n",
    "print(f\"df_train_ms: {df_train_ms.shape}\\ndf_val_ms: {df_val_ms.shape}\\ndf_val_uw: {df_val_uw.shape}\\nCombined dataframe: {df_combined.shape}\")\n",
    "\n",
    "size_train_ms = df_train_ms.shape[0]\n",
    "size_val_ms = df_val_ms.shape[0]\n",
    "size_val_uw = df_val_uw.shape[0]\n",
    "total_size = size_train_ms + size_val_ms + size_val_uw\n",
    "\n",
    "proportion_train_ms = size_train_ms / total_size\n",
    "proportion_val_ms = size_val_ms / total_size\n",
    "proportion_val_uw = size_val_uw / total_size\n",
    "\n",
    "samples_train_ms = int(round(proportion_train_ms * 300))\n",
    "samples_val_ms = int(round(proportion_val_ms * 300))\n",
    "samples_val_uw = 300 - samples_train_ms - samples_val_ms\n",
    "\n",
    "def sample_balanced(df, n_samples):\n",
    "    df_error = df[df[\"Error Flag\"] == 1]\n",
    "    df_no_error = df[df[\"Error Flag\"] == 0]\n",
    "    n_samples_each = n_samples // 2    \n",
    "    if n_samples % 2 != 0:\n",
    "        n_samples_each += 1\n",
    "    sampled_error = df_error.sample(n=min(n_samples_each, len(df_error)), replace=False)\n",
    "    sampled_no_error = df_no_error.sample(n=min(n_samples_each, len(df_no_error)), replace=False)\n",
    "    return pd.concat([sampled_error, sampled_no_error]).sample(frac=1)  # Randomize order\n",
    "\n",
    "sampled_train_ms = sample_balanced(df_train_ms, samples_train_ms)\n",
    "sampled_val_ms = sample_balanced(df_val_ms, samples_val_ms)\n",
    "sampled_val_uw = sample_balanced(df_val_uw, samples_val_uw)\n",
    "final_df = pd.concat([sampled_train_ms, sampled_val_ms, sampled_val_uw])\n",
    "\n",
    "final_df_balanced = final_df.groupby('Error Flag', group_keys=False).apply(lambda x: x.sample(min(len(x), 150))).sample(frac=1).reset_index(drop=True)\n",
    "final_df_balanced.shape\n",
    "final_df_balanced.to_csv('sampled_ms_uw_df_ea_shared_task_300_texts.csv',index=False)"
   ]
  },
  {
   "cell_type": "code",
   "execution_count": 176,
   "id": "f17e3963-a376-4f69-9f8b-7463cd7aaac6",
   "metadata": {},
   "outputs": [
    {
     "data": {
      "text/plain": [
       "Text ID\n",
       "ms-train    224\n",
       "ms-val       60\n",
       "uw-val       16\n",
       "Name: count, dtype: int64"
      ]
     },
     "execution_count": 176,
     "metadata": {},
     "output_type": "execute_result"
    }
   ],
   "source": [
    "final_df_balanced['Text ID'].apply(lambda x: '-'.join(x.split('-')[:2])).value_counts()  # Distribution of clinical text taken from the three sources"
   ]
  },
  {
   "cell_type": "code",
   "execution_count": 175,
   "id": "74e0a4c0-6f56-4c5c-9ba8-f4612a0520f5",
   "metadata": {},
   "outputs": [
    {
     "data": {
      "text/plain": [
       "Error Flag\n",
       "0    150\n",
       "1    150\n",
       "Name: count, dtype: int64"
      ]
     },
     "execution_count": 175,
     "metadata": {},
     "output_type": "execute_result"
    }
   ],
   "source": [
    "final_df_balanced['Error Flag'].value_counts(dropna=False)"
   ]
  },
  {
   "cell_type": "code",
   "execution_count": 10,
   "id": "1e7147bc-9b78-4299-bdd1-23eb5c9d2f23",
   "metadata": {},
   "outputs": [],
   "source": [
    "df_train_ms = pd.read_csv('MEDIQA-CORR-2024-MS-TrainingData.csv',index_col=0)\n",
    "df_val_ms = pd.read_csv('MEDIQA-CORR-2024-MS-ValidationSet-1-Full.csv',index_col=0)\n",
    "df_val_uw = pd.read_csv('MEDIQA-CORR-2024-UW-ValidationSet-1-Full_Feb.csv',index_col=0)\n",
    "total_size = len(df_train_ms) + len(df_val_ms) + len(df_val_uw)\n",
    "ratios = [len(df_train_ms) / total_size, len(df_val_ms) / total_size, len(df_val_uw) / total_size]\n",
    "samples_from_each = [int(200 * ratio) for ratio in ratios]\n",
    "samples_from_each[-1] = 200 - sum(samples_from_each[:-1])\n",
    "sampled_dfs = [df.sample(n) for df, n in zip([df_train_ms, df_val_ms, df_val_uw], samples_from_each)]\n",
    "final_df = pd.concat(sampled_dfs)\n",
    "final_df.shape\n",
    "final_df.to_csv('sampled_ms_uw_df_ea_shared_task_200_texts.csv',index=False)"
   ]
  },
  {
   "cell_type": "code",
   "execution_count": 5,
   "id": "9b24eb96-a77d-477a-9c74-a08ac35d953c",
   "metadata": {},
   "outputs": [
    {
     "data": {
      "text/plain": [
       "Text ID\n",
       "ms-train    149\n",
       "ms-val       39\n",
       "uw-val       12\n",
       "Name: count, dtype: int64"
      ]
     },
     "execution_count": 5,
     "metadata": {},
     "output_type": "execute_result"
    }
   ],
   "source": [
    "final_df['Text ID'].apply(lambda x: '-'.join(x.split('-')[:2])).value_counts()  # Distribution of clinical text taken from the three sources"
   ]
  },
  {
   "cell_type": "code",
   "execution_count": 11,
   "id": "bb3b5b50-7857-475c-b538-10c5e5c2aeea",
   "metadata": {},
   "outputs": [
    {
     "data": {
      "text/plain": [
       "Error Flag\n",
       "1    113\n",
       "0     87\n",
       "Name: count, dtype: int64"
      ]
     },
     "execution_count": 11,
     "metadata": {},
     "output_type": "execute_result"
    }
   ],
   "source": [
    "final_df['Error Flag'].value_counts(dropna=False)"
   ]
  },
  {
   "cell_type": "code",
   "execution_count": 14,
   "id": "23cbefe2-fb36-49f1-9a2c-160187cd04a7",
   "metadata": {},
   "outputs": [],
   "source": [
    "def extract_balanced_samples_optimized(df, n_samples=100):\n",
    "    if \"Error Flag\" not in df.columns:\n",
    "        raise ValueError(\"The DataFrame does not have the 'Error Flag' column.\")\n",
    "\n",
    "    # Determine the number of samples per class\n",
    "    n_per_class = n_samples // 2\n",
    "\n",
    "    # Ensure there are enough samples for each class\n",
    "    if df[\"Error Flag\"].value_counts().min() < n_per_class:\n",
    "        raise ValueError(\"Not enough samples in one or both classes to maintain balance.\")\n",
    "\n",
    "    # Efficiently concatenate the random samples from each class\n",
    "    sampled_df = pd.concat([\n",
    "        df[df[\"Error Flag\"] == 0].sample(n=n_per_class, random_state=1),\n",
    "        df[df[\"Error Flag\"] == 1].sample(n=n_per_class, random_state=1)\n",
    "    ])\n",
    "\n",
    "    # Shuffle the resulting DataFrame\n",
    "    sampled_df = sampled_df.sample(frac=1, random_state=2).reset_index(drop=True)\n",
    "\n",
    "    return sampled_df"
   ]
  },
  {
   "cell_type": "code",
   "execution_count": 15,
   "id": "ed953f38-790f-4855-8568-2b91bb0101ff",
   "metadata": {},
   "outputs": [],
   "source": [
    "df_train_ms = pd.read_csv('MEDIQA-CORR-2024-MS-TrainingData.csv',index_col=0)\n",
    "df_val_ms = pd.read_csv('MEDIQA-CORR-2024-MS-ValidationSet-1-Full.csv',index_col=0)\n",
    "df_val_uw = pd.read_csv('MEDIQA-CORR-2024-UW-ValidationSet-1-Full_Feb.csv',index_col=0)\n",
    "\n",
    "df_combined = pd.concat([df_train_ms, df_val_ms, df_val_uw], ignore_index=True)\n",
    "extract_balanced_samples_optimized(df_combined, 100).to_csv('sampled_ms_uw_df_ea_shared_task_100_texts.csv',index=False)"
   ]
  },
  {
   "cell_type": "markdown",
   "id": "6807f5c8-20be-474e-8bbb-375fc0daf8cb",
   "metadata": {},
   "source": [
    "# Common Evaluation Metric functions"
   ]
  },
  {
   "cell_type": "code",
   "execution_count": 102,
   "id": "969a9679-f21c-44a1-8914-b9edc02ee117",
   "metadata": {},
   "outputs": [],
   "source": [
    "def print_metrics(file_name, gpt_error_flag_name):\n",
    "    df_results = pd.read_csv(file_name,index_col=0)\n",
    "    print(f\"Shape of dataframe:{df_results.shape}\",flush=True)\n",
    "    df_results = df_results.dropna(subset=[gpt_error_flag_name])\n",
    "    print(f\"Shape of dataframe AFTER dropping NANs:{df_results.shape}\",flush=True)\n",
    "    df_results.reset_index(inplace=True)\n",
    "    def convert_value(value):\n",
    "        if value in ['yes', 'Yes']:\n",
    "            return 1\n",
    "        elif value in ['No', 'no']:\n",
    "            return 0\n",
    "        else:\n",
    "            return np.nan\n",
    "    \n",
    "    df_results[gpt_error_flag_name] = df_results[gpt_error_flag_name].apply(convert_value)\n",
    "    print(df_results[gpt_error_flag_name].value_counts(dropna=False))\n",
    "    # df_results = df_results.iloc[:268]    \n",
    "    y_true = df_results['Error Flag']\n",
    "    y_pred = df_results[gpt_error_flag_name]\n",
    "    \n",
    "    cm = confusion_matrix(y_true, y_pred)\n",
    "    plt.figure(figsize=(4, 4))\n",
    "    sns.heatmap(cm, annot=True, fmt='d', cmap='Blues', cbar=False)\n",
    "    plt.xlabel('Predicted Error Flag (0: no error & 1: Error)')\n",
    "    plt.ylabel('True Error Flag')\n",
    "    plt.title('Confusion Matrix')\n",
    "    plt.show()\n",
    "    tn, fp, fn, tp = cm.ravel()\n",
    "    precision = precision_score(y_true, y_pred)\n",
    "    recall = recall_score(y_true, y_pred)\n",
    "    f1 = f1_score(y_true, y_pred)\n",
    "    accuracy = accuracy_score(y_true, y_pred)\n",
    "    print(f\"True Positives (TP): {tp}\")\n",
    "    print(f\"False Positives (FP): {fp}\")\n",
    "    print(f\"True Negatives (TN): {tn}\")\n",
    "    print(f\"False Negatives (FN): {fn}\")\n",
    "    print(f\"Precision: {precision:.2f}\")\n",
    "    print(f\"Recall: {recall:.2f}\")\n",
    "    print(f\"F1 Score: {f1:.2f}\")\n",
    "    print(f\"Accuracy: {accuracy:.2f}\")"
   ]
  },
  {
   "cell_type": "code",
   "execution_count": 103,
   "id": "576b1c68-01c9-425c-bd95-d9e323a74d69",
   "metadata": {},
   "outputs": [
    {
     "name": "stdout",
     "output_type": "stream",
     "text": [
      "Shape of dataframe:(574, 12)\n",
      "Shape of dataframe AFTER dropping NANs:(574, 12)\n",
      "gpt_4_1106_preview_error_flag\n",
      "1    466\n",
      "0    108\n",
      "Name: count, dtype: int64\n"
     ]
    },
    {
     "data": {
      "image/png": "[encoded data removed]",
      "text/plain": [
       "<Figure size 400x400 with 1 Axes>"
      ]
     },
     "metadata": {},
     "output_type": "display_data"
    },
    {
     "name": "stdout",
     "output_type": "stream",
     "text": [
      "True Positives (TP): 284\n",
      "False Positives (FP): 182\n",
      "True Negatives (TN): 73\n",
      "False Negatives (FN): 35\n",
      "Precision: 0.61\n",
      "Recall: 0.89\n",
      "F1 Score: 0.72\n",
      "Accuracy: 0.62\n"
     ]
    }
   ],
   "source": [
    "print_metrics('EA_shared_task_outputs/case1_26_03_2024/case_1_validMS_gpt_4_predictions_26_03_2024.csv','gpt_4_1106_preview_error_flag')"
   ]
  },
  {
   "cell_type": "code",
   "execution_count": 108,
   "id": "c40194ab-9c04-497a-b01b-9e3387b0b946",
   "metadata": {
    "scrolled": true
   },
   "outputs": [
    {
     "name": "stdout",
     "output_type": "stream",
     "text": [
      "Shape of dataframe:(466, 8)\n",
      "Shape of dataframe AFTER dropping NANs:(388, 8)\n",
      "Shape of dataframe AFTER dropping NANs:(387, 9)\n",
      "reevaluated_gpt_4_1106_preview_error_flag\n",
      "0.0    244\n",
      "1.0    143\n",
      "Name: count, dtype: int64\n"
     ]
    },
    {
     "data": {
      "image/png": "[encoded data removed]",
      "text/plain": [
       "<Figure size 400x400 with 1 Axes>"
      ]
     },
     "metadata": {},
     "output_type": "display_data"
    },
    {
     "name": "stdout",
     "output_type": "stream",
     "text": [
      "True Positives (TP): 115\n",
      "False Positives (FP): 28\n",
      "True Negatives (TN): 150\n",
      "False Negatives (FN): 94\n",
      "Precision: 0.80\n",
      "Recall: 0.55\n",
      "F1 Score: 0.65\n",
      "Accuracy: 0.68\n"
     ]
    }
   ],
   "source": [
    "df_results = pd.read_csv('EA_shared_task_outputs/case1_26_03_2024/tempo.csv',index_col=0)\n",
    "\n",
    "print(f\"Shape of dataframe:{df_results.shape}\",flush=True)\n",
    "df_results = df_results.dropna(subset=['reevaluated_gpt_4_1106_preview_error_flag'])\n",
    "print(f\"Shape of dataframe AFTER dropping NANs:{df_results.shape}\",flush=True)\n",
    "df_results.reset_index(inplace=True)\n",
    "def convert_value(value):\n",
    "    if value in ['yes', 'Yes']:\n",
    "        return 1\n",
    "    elif value in ['No', 'no']:\n",
    "        return 0\n",
    "    else:\n",
    "        return np.nan\n",
    "\n",
    "df_results['reevaluated_gpt_4_1106_preview_error_flag'] = df_results['reevaluated_gpt_4_1106_preview_error_flag'].apply(convert_value)\n",
    "df_results = df_results.dropna(subset=['reevaluated_gpt_4_1106_preview_error_flag'])\n",
    "print(f\"Shape of dataframe AFTER dropping NANs:{df_results.shape}\",flush=True)\n",
    "print(df_results['reevaluated_gpt_4_1106_preview_error_flag'].value_counts(dropna=False))\n",
    "# df_results = df_results.iloc[:271]    \n",
    "y_true = df_results['Error Flag']\n",
    "y_pred = df_results['reevaluated_gpt_4_1106_preview_error_flag']\n",
    "\n",
    "cm = confusion_matrix(y_true, y_pred)\n",
    "plt.figure(figsize=(4, 4))\n",
    "sns.heatmap(cm, annot=True, fmt='d', cmap='Blues', cbar=False)\n",
    "plt.xlabel('Predicted Error Flag (0: no error & 1: Error)')\n",
    "plt.ylabel('True Error Flag')\n",
    "plt.title('Confusion Matrix')\n",
    "plt.show()\n",
    "tn, fp, fn, tp = cm.ravel()\n",
    "precision = precision_score(y_true, y_pred)\n",
    "recall = recall_score(y_true, y_pred)\n",
    "f1 = f1_score(y_true, y_pred)\n",
    "accuracy = accuracy_score(y_true, y_pred)\n",
    "print(f\"True Positives (TP): {tp}\")\n",
    "print(f\"False Positives (FP): {fp}\")\n",
    "print(f\"True Negatives (TN): {tn}\")\n",
    "print(f\"False Negatives (FN): {fn}\")\n",
    "print(f\"Precision: {precision:.2f}\")\n",
    "print(f\"Recall: {recall:.2f}\")\n",
    "print(f\"F1 Score: {f1:.2f}\")\n",
    "print(f\"Accuracy: {accuracy:.2f}\")"
   ]
  },
  {
   "cell_type": "code",
   "execution_count": 104,
   "id": "7044456a-46a3-4623-b7bf-9d4fbe16c1e8",
   "metadata": {},
   "outputs": [
    {
     "name": "stdout",
     "output_type": "stream",
     "text": [
      "ERROR FLAG:  gpt_4_1106_preview_error_flag\n",
      "1    466\n",
      "0    108\n",
      "Name: count, dtype: int64\n",
      "df.shape:  (574, 13)\n"
     ]
    },
    {
     "data": {
      "text/plain": [
       "(108, 14)"
      ]
     },
     "execution_count": 104,
     "metadata": {},
     "output_type": "execute_result"
    }
   ],
   "source": [
    "## Read the pipeline1's output csv file\n",
    "df = pd.read_csv('EA_shared_task_outputs/case1_26_03_2024/case_1_validMS_gpt_4_predictions_26_03_2024.csv',index_col=0)\n",
    "df = df.dropna(subset=['gpt_4_1106_preview_error_flag'])\n",
    "df['gpt_4_1106_preview_sentence_id'] = df['gpt_4_1106_preview_sentence_id'].astype(int)\n",
    "df['gpt_4_1106_preview_error_flag'] = df['gpt_4_1106_preview_error_flag'].apply(convert_value)\n",
    "print(\"ERROR FLAG: \",df['gpt_4_1106_preview_error_flag'].value_counts(dropna=False))\n",
    "df.reset_index(inplace=True)\n",
    "print(\"df.shape: \",df.shape)\n",
    "\n",
    "## Extract only the positive predictions by gpt-4 api\n",
    "df_0_preds = df[df['gpt_4_1106_preview_error_flag'] ==0]\n",
    "df_0_preds.reset_index(inplace=True)\n",
    "df_0_preds.shape"
   ]
  },
  {
   "cell_type": "code",
   "execution_count": 105,
   "id": "0aec39ea-203b-412e-ac13-dba6b63638d1",
   "metadata": {},
   "outputs": [
    {
     "data": {
      "text/plain": [
       "Index(['index', 'Unnamed: 0', 'Text ID', 'Text', 'Sentences', 'Error Flag',\n",
       "       'Error Sentence ID', 'Error Sentence', 'Corrected Sentence',\n",
       "       'Corrected Text', 'gpt_4_1106_preview_error_flag',\n",
       "       'gpt_4_1106_preview_sentence_id', 'gpt_4_1106_preview_Error_Sentence',\n",
       "       'gpt_4_1106_preview_Corrected_Sentence'],\n",
       "      dtype='object')"
      ]
     },
     "execution_count": 105,
     "metadata": {},
     "output_type": "execute_result"
    }
   ],
   "source": [
    "df_0_preds.columns"
   ]
  },
  {
   "cell_type": "code",
   "execution_count": null,
   "id": "8cf29acc-1e95-41f2-99d7-f732e3bcb7bd",
   "metadata": {},
   "outputs": [],
   "source": []
  },
  {
   "cell_type": "code",
   "execution_count": 83,
   "id": "9f37c80a-e43f-407b-a7a4-b99a8f22462f",
   "metadata": {
    "scrolled": true
   },
   "outputs": [
    {
     "name": "stdout",
     "output_type": "stream",
     "text": [
      "(178, 20)\n",
      "(178, 20)\n",
      "Evaluation Metrics for Model 1:\n",
      "Accuracy: 0.6461\n",
      "Precision: 0.6461\n",
      "Recall: 1.0000\n",
      "F1: 0.7850\n",
      "ROC AUC: N/A (not binary)\n",
      "\n",
      "Evaluation Metrics for Model 2:\n",
      "Accuracy: 0.7247\n",
      "Precision: 0.8173\n",
      "Recall: 0.7391\n",
      "F1: 0.7763\n",
      "ROC AUC: 0.7188\n"
     ]
    }
   ],
   "source": [
    "import pandas as pd\n",
    "from sklearn.metrics import accuracy_score, precision_score, recall_score, f1_score, roc_auc_score\n",
    "df = pd.read_csv('EA_shared_task_outputs/case2_prompt_with_RAG/case2_with_RAG_validMS_gpt_4_predictions_temp_27_03.csv',index_col=0)\n",
    "df = df.iloc[:178]\n",
    "df = df.dropna(subset=['gpt_4_1106_preview_error_flag'])\n",
    "df = df.dropna(subset=['reevaluated_gpt_4_1106_preview_error_flag'])\n",
    "df = df.dropna(subset=['Error Flag'])\n",
    "\n",
    "\n",
    "df.reset_index(inplace=True)\n",
    "print(df.shape)\n",
    "def convert_value(value):\n",
    "        if value in ['yes', 'Yes']:\n",
    "            return 1\n",
    "        elif value in ['No', 'no']:\n",
    "            return 0\n",
    "        else:\n",
    "            return np.nan\n",
    "    \n",
    "df['reevaluated_gpt_4_1106_preview_error_flag'] = df['reevaluated_gpt_4_1106_preview_error_flag'].apply(convert_value)\n",
    "df = df.dropna(subset=['gpt_4_1106_preview_error_flag', 'reevaluated_gpt_4_1106_preview_error_flag'])\n",
    "print(df.shape)\n",
    "\n",
    "def evaluate_metrics(y_true, y_pred, metric_names=[\"Accuracy\", \"Precision\", \"Recall\", \"F1\", \"ROC AUC\"]):\n",
    "    metrics = {}\n",
    "    if \"Accuracy\" in metric_names:\n",
    "        metrics[\"Accuracy\"] = accuracy_score(y_true, y_pred)\n",
    "    if \"Precision\" in metric_names:\n",
    "        metrics[\"Precision\"] = precision_score(y_true, y_pred)\n",
    "    if \"Recall\" in metric_names:\n",
    "        metrics[\"Recall\"] = recall_score(y_true, y_pred)\n",
    "    if \"F1\" in metric_names:\n",
    "        metrics[\"F1\"] = f1_score(y_true, y_pred)\n",
    "    if \"ROC AUC\" in metric_names:\n",
    "        if y_true.nunique() == 2 and y_pred.nunique() == 2:\n",
    "            metrics[\"ROC AUC\"] = roc_auc_score(y_true, y_pred)\n",
    "        else:\n",
    "            metrics[\"ROC AUC\"] = \"N/A (not binary)\"\n",
    "    return metrics\n",
    "\n",
    "gold_standard = \"Error Flag\"\n",
    "model_1_predictions = \"gpt_4_1106_preview_error_flag\"\n",
    "model_2_predictions = \"reevaluated_gpt_4_1106_preview_error_flag\"\n",
    "\n",
    "metrics_model_1 = evaluate_metrics(df[gold_standard], df[model_1_predictions])\n",
    "metrics_model_2 = evaluate_metrics(df[gold_standard], df[model_2_predictions])\n",
    "\n",
    "print(\"Evaluation Metrics for Model 1:\")\n",
    "for metric, value in metrics_model_1.items():\n",
    "    if isinstance(value, str):\n",
    "        print(f\"{metric}: {value}\")\n",
    "    else:\n",
    "        print(f\"{metric}: {value:.4f}\")\n",
    "\n",
    "print(\"\\nEvaluation Metrics for Model 2:\")\n",
    "for metric, value in metrics_model_2.items():\n",
    "    if isinstance(value, str):\n",
    "        print(f\"{metric}: {value}\")\n",
    "    else:\n",
    "        print(f\"{metric}: {value:.4f}\")\n"
   ]
  },
  {
   "cell_type": "markdown",
   "id": "0e44fc67-cf8a-4796-bdb5-6a2543b02511",
   "metadata": {
    "jp-MarkdownHeadingCollapsed": true
   },
   "source": [
    "# Understanding the input Training dataset"
   ]
  },
  {
   "cell_type": "code",
   "execution_count": 203,
   "id": "e00da422-1b37-4ded-bba6-2a424839c239",
   "metadata": {},
   "outputs": [
    {
     "name": "stdout",
     "output_type": "stream",
     "text": [
      "<class 'pandas.core.frame.DataFrame'>\n",
      "RangeIndex: 2189 entries, 0 to 2188\n",
      "Data columns (total 9 columns):\n",
      " #   Column              Non-Null Count  Dtype \n",
      "---  ------              --------------  ----- \n",
      " 0   Unnamed: 0          2189 non-null   int64 \n",
      " 1   Text ID             2189 non-null   object\n",
      " 2   Text                2189 non-null   object\n",
      " 3   Sentences           2189 non-null   object\n",
      " 4   Error Flag          2189 non-null   int64 \n",
      " 5   Error Sentence ID   2189 non-null   int64 \n",
      " 6   Error Sentence      1219 non-null   object\n",
      " 7   Corrected Sentence  1219 non-null   object\n",
      " 8   Corrected Text      1219 non-null   object\n",
      "dtypes: int64(3), object(6)\n",
      "memory usage: 154.0+ KB\n"
     ]
    }
   ],
   "source": [
    "df_train_ms.info()"
   ]
  },
  {
   "cell_type": "code",
   "execution_count": 181,
   "id": "5f0fc52e-7e9d-4474-a75a-0cc3e012f07f",
   "metadata": {},
   "outputs": [
    {
     "data": {
      "text/plain": [
       "Error Flag\n",
       "1    1219\n",
       "0     970\n",
       "Name: count, dtype: int64"
      ]
     },
     "execution_count": 181,
     "metadata": {},
     "output_type": "execute_result"
    }
   ],
   "source": [
    "df_train_ms['Error Flag'].value_counts(dropna=False)"
   ]
  },
  {
   "cell_type": "code",
   "execution_count": 183,
   "id": "c49c5729-271d-4ad4-ad5c-9b563d159d6d",
   "metadata": {},
   "outputs": [
    {
     "data": {
      "text/plain": [
       "0    After reviewing imaging, the causal pathogen was determined to be Haemophilus influenzae.\n",
       "1                                                                                          NaN\n",
       "2                                                 Suspected of infection with Giardia lamblia.\n",
       "3                                                                                          NaN\n",
       "4                                               Causal organism is Staphylococcus epidermidis.\n",
       "5                                                                                          NaN\n",
       "6                                                  Patient is diagnosed with an EBV infection.\n",
       "7                                                                                          NaN\n",
       "8                                   Bartonella henselae was determined as the causal organism.\n",
       "9                                                        Culture confirms Nocardia asteroides.\n",
       "Name: Error Sentence, dtype: object"
      ]
     },
     "execution_count": 183,
     "metadata": {},
     "output_type": "execute_result"
    }
   ],
   "source": [
    "df_train_ms['Error Sentence'][:10]"
   ]
  },
  {
   "cell_type": "code",
   "execution_count": null,
   "id": "b86ea3a9-c7a1-4f42-ad7a-18ca4294f57b",
   "metadata": {},
   "outputs": [],
   "source": [
    "error_text = ' '.join(df_train_ms['Error Sentence'].dropna().str.lower())\n",
    "corrected_text = ' '.join(df_train_ms['Corrected Sentence'].dropna().str.lower())\n",
    "\n",
    "wordcloud_error = WordCloud(stopwords=STOPWORDS, background_color='white').generate(error_text)\n",
    "wordcloud_corrected = WordCloud(stopwords=STOPWORDS, background_color='white').generate(corrected_text)\n",
    "plt.figure(figsize=(10, 5))\n",
    "plt.subplot(1, 2, 1)\n",
    "plt.imshow(wordcloud_error, interpolation='bilinear')\n",
    "plt.title('Error Sentences')\n",
    "plt.axis('off')\n",
    "\n",
    "plt.subplot(1, 2, 2)\n",
    "plt.imshow(wordcloud_corrected, interpolation='bilinear')\n",
    "plt.title('Corrected Sentences')\n",
    "plt.axis('off')\n",
    "plt.show()"
   ]
  },
  {
   "cell_type": "code",
   "execution_count": null,
   "id": "1403fca6-2bc0-4e84-860e-efe980b1fa82",
   "metadata": {},
   "outputs": [],
   "source": [
    "plt.figure(figsize=(10, 6))\n",
    "df_train_ms['Text'].apply(len).plot(kind='hist', bins=20, alpha=0.7)\n",
    "plt.title('Frequency of Text Lengths')\n",
    "plt.xlabel('Text Length')\n",
    "plt.ylabel('Frequency')\n",
    "plt.grid(axis='y', alpha=0.75)\n",
    "plt.show()"
   ]
  },
  {
   "cell_type": "markdown",
   "id": "09279de7-e56c-44da-93fd-dbbbf4807984",
   "metadata": {
    "jp-MarkdownHeadingCollapsed": true
   },
   "source": [
    "# CASE 1: 7 examples given in Prompt with every feature \n",
    "## (Text, Sentences, Error flag, Error sentence id, error sentence, corrected sentence)"
   ]
  },
  {
   "cell_type": "code",
   "execution_count": null,
   "id": "3f7d973d-3025-4bc1-967a-99933a5e2ac4",
   "metadata": {
    "scrolled": true
   },
   "outputs": [
    {
     "name": "stdout",
     "output_type": "stream",
     "text": [
      "#######################################################################\n",
      "Currently accessing df_val_ms id:0\n"
     ]
    },
    {
     "name": "stderr",
     "output_type": "stream",
     "text": [
      "/tmp/ipykernel_3357267/21538612.py:195: FutureWarning: Setting an item of incompatible dtype is deprecated and will raise in a future error of pandas. Value 'yes' has dtype incompatible with int64, please explicitly cast to a compatible dtype first.\n",
      "  df_val_ms.at[i, 'gpt_4_1106_preview_error_flag'] = message_content_json['Error']\n"
     ]
    },
    {
     "name": "stdout",
     "output_type": "stream",
     "text": [
      "#######################################################################\n",
      "Currently accessing df_val_ms id:1\n",
      "#######################################################################\n",
      "Currently accessing df_val_ms id:2\n",
      "#######################################################################\n",
      "Currently accessing df_val_ms id:3\n",
      "#######################################################################\n",
      "Currently accessing df_val_ms id:4\n",
      "#######################################################################\n",
      "Currently accessing df_val_ms id:5\n",
      "#######################################################################\n",
      "Currently accessing df_val_ms id:6\n",
      "#######################################################################\n",
      "Currently accessing df_val_ms id:7\n",
      "#######################################################################\n",
      "Currently accessing df_val_ms id:8\n",
      "#######################################################################\n",
      "Currently accessing df_val_ms id:9\n",
      "#######################################################################\n",
      "Currently accessing df_val_ms id:10\n",
      "#######################################################################\n",
      "Currently accessing df_val_ms id:11\n",
      "#######################################################################\n",
      "Currently accessing df_val_ms id:12\n",
      "#######################################################################\n",
      "Currently accessing df_val_ms id:13\n"
     ]
    },
    {
     "name": "stderr",
     "output_type": "stream",
     "text": [
      "/tmp/ipykernel_3357267/21538612.py:196: FutureWarning: Setting an item of incompatible dtype is deprecated and will raise in a future error of pandas. Value '-1' has dtype incompatible with int64, please explicitly cast to a compatible dtype first.\n",
      "  df_val_ms.at[i, 'gpt_4_1106_preview_sentence_id'] = message_content_json['Error Sentence ID']\n"
     ]
    },
    {
     "name": "stdout",
     "output_type": "stream",
     "text": [
      "#######################################################################\n",
      "Currently accessing df_val_ms id:14\n",
      "#######################################################################\n",
      "Currently accessing df_val_ms id:15\n",
      "#######################################################################\n",
      "Currently accessing df_val_ms id:16\n",
      "#######################################################################\n",
      "Currently accessing df_val_ms id:17\n",
      "#######################################################################\n",
      "Currently accessing df_val_ms id:18\n",
      "#######################################################################\n",
      "Currently accessing df_val_ms id:19\n",
      "#######################################################################\n",
      "Currently accessing df_val_ms id:20\n",
      "#######################################################################\n",
      "Currently accessing df_val_ms id:21\n",
      "#######################################################################\n",
      "Currently accessing df_val_ms id:22\n",
      "#######################################################################\n",
      "Currently accessing df_val_ms id:23\n",
      "#######################################################################\n"
     ]
    }
   ],
   "source": [
    "# CASE When \"or text span\" is removed and \"gpt-4-turbo-preview\" is used\n",
    "df_val_ms = pd.read_csv('MEDIQA-CORR-2024-MS-ValidationSet-1-Full.csv')\n",
    "df_val_ms['gpt_4_1106_preview_error_flag'] = 0\n",
    "df_val_ms['gpt_4_1106_preview_sentence_id'] = 0\n",
    "df_val_ms['gpt_4_1106_preview_Error_Sentence'] = ''\n",
    "df_val_ms['gpt_4_1106_preview_Corrected_Sentence'] = ''\n",
    "\n",
    "max_retries = 3\n",
    "default_wait_time = 6  # Default wait time in seconds\n",
    "\n",
    "# for i in range(len(df_val_ms)):\n",
    "for i, row in df_val_ms.iterrows():\n",
    "    print(\"#######################################################################\")\n",
    "    time.sleep(30)\n",
    "    if i % 5 == 0:\n",
    "        # print(\"Waiting for 10 seconds...\",flush=True)\n",
    "        time.sleep(10)\n",
    "        \n",
    "    retry_count = 0\n",
    "    while retry_count < max_retries:\n",
    "        try:\n",
    "            print(f\"Currently accessing df_val_ms id:{i}\", flush=True)\n",
    "            text = row['Text']\n",
    "            clinical_sentences = row['Sentences']\n",
    "            # print(\"Data read!!\")\n",
    "            message_text = [{\"role\":\"system\",\"content\":\n",
    "                  f\"\"\"You are an AI trained in medical knowledge. Below are examples of clinical texts (delimited by triple quotes) and clinical texts divided into sentences (delimited by triple quotes) followed by an analysis of whether there is a diagnostic error and, if so, the sentence ID and the text span containing the error. The examples also show the corrected sentence that should have been the correct diagnosis.\n",
    "                  Example 1:\n",
    "                  Clinical Text: ```A 17-year-old boy comes to the physician because of body aches and sore throat for 1 week. He has no history of serious illness and takes no medications. He lives with his parents; they recently adopted a cat from an animal shelter. He is sexually active with one female partner, and they use condoms consistently. His temperature is 38.7 C (101.7 F), pulse is 99/min, and blood pressure is 110/72 mm Hg. Examination shows bilateral posterior cervical lymphadenopathy. The pharynx is red and swollen. Laboratory studies show:\n",
    "                  Hemoglobin 15 g/dL\n",
    "                  Leukocyte count 11,500/mm3\n",
    "                  Segmented neutrophils 48%\n",
    "                  Band forms 2%\n",
    "                  Basophils 0.5%\n",
    "                  Eosinophils 1%\n",
    "                  Lymphocytes 45%\n",
    "                  Monocytes 3.5%\n",
    "                  When the patient's serum is added to a sample of horse erythrocytes, the cells aggregate together. The causal pathogen is cytomegalovirus.```\n",
    "                  Clinical Text Sentences: ```0 A 17-year-old boy comes to the physician because of body aches and sore throat for 1 week.\n",
    "                  1 He has no history of serious illness and takes no medications.\n",
    "                  2 He lives with his parents; they recently adopted a cat from an animal shelter.\n",
    "                  3 He is sexually active with one female partner, and they use condoms consistently.\n",
    "                  4 His temperature is 38.7 C (101.7 F), pulse is 99/min, and\n",
    "                  5 blood pressure is 110/72 mm\n",
    "                  6 Hg.\n",
    "                  7 Examination shows bilateral posterior cervical lymphadenopathy.\n",
    "                  8 The pharynx is red and swollen.\n",
    "                  9 Laboratory studies show:\n",
    "                  10 Hemoglobin 15\n",
    "                  11 g/dL\n",
    "                  12 Leukocyte count 11,500/mm3 Segmented neutrophils 48%\n",
    "                  13 Band forms 2%\n",
    "                  14 Basophils 0.5%\n",
    "                  15 Eosinophils 1%\n",
    "                  16 Lymphocytes 45%\n",
    "                  17 Monocytes 3.5%\n",
    "                  18 When the patient's serum is added to a sample of horse erythrocytes, the cells aggregate together.\n",
    "                  19 The causal pathogen is cytomegalovirus.```\n",
    "                  Error: yes\n",
    "                  Error Sentence ID: 19\n",
    "                  Error Sentence Span: The causal pathogen is cytomegalovirus.\n",
    "                  Corrected Sentence: The causal pathogen is Epstein-Barr virus.\n",
    "                \n",
    "                  Example 2:\n",
    "                  Clinical Text: ```A previously healthy 18-year-old woman comes to the emergency department because of diarrhea and abdominal cramps since the previous evening. She has had around 3Ã¢â‚¬â€œ4 episodes of watery stools. She feels nauseous and has vomited twice. She recollects eating out 2 days ago. She has been on a vegan diet for 6 months. She takes no medications and has not traveled anywhere recently. Her temperature is 36.8 (98.2 F), pulse is 73/min, and blood pressure is 110/70 mm Hg. Examination shows dry mucous membranes. Abdominal examination is unremarkable. Norovirus was determined to be the casual organism.```\n",
    "                  Clinical Text Sentences: ```0 A previously healthy 18-year-old woman comes to the emergency department because of diarrhea and abdominal cramps since the previous evening.\n",
    "                  1 She has had around 3Ã¢â‚¬â€œ4 episodes of watery stools.\n",
    "                  2 She feels nauseous and has vomited twice.\n",
    "                  3 She recollects eating out 2 days ago.\n",
    "                  4 She has been on a vegan diet for 6 months.\n",
    "                  5 She takes no medications and has not traveled anywhere recently.\n",
    "                  6 Her temperature is 36.8 (98.2 F), pulse is 73/min, and\n",
    "                  7 blood pressure is 110/70 mm\n",
    "                  8 Hg.\n",
    "                  9 Examination shows dry mucous membranes.\n",
    "                  10 Abdominal examination is unremarkable.\n",
    "                  11 Norovirus was determined to be the casual organism.```\n",
    "                  Error: No\n",
    "                  Error Sentence ID: -1\n",
    "                  Error Sentence Span: -1\n",
    "                  Corrected Sentence: -1\n",
    "                \n",
    "                  Example 3:\n",
    "                  Clinical Text: ```A 5-year-old boy is brought to the emergency department by his grandmother because of difficulty breathing. Over the past two hours, the grandmother has noticed his voice getting progressively hoarser and occasionally muffled, with persistent drooling. He has not had a cough. The child recently immigrated from Africa, and the grandmother is unsure if his immunizations are up-to-date. He appears uncomfortable and is sitting up and leaning forward with his chin hyperextended. His temperature is 39.5 C (103.1 F), pulse is 110/min, and blood pressure is 90/70 mm Hg. Pulse oximetry on room air shows an oxygen saturation of 95%. Pulmonary examination shows inspiratory stridor and scattered rhonchi throughout both lung fields, along with poor air movement. Pharyngoscopy is ordered. ```\n",
    "                  Clinical Text Sentences: ```0 A 5-year-old boy is brought to the emergency department by his grandmother because of difficulty breathing.\n",
    "                  1 Over the past two hours, the grandmother has noticed his voice getting progressively hoarser and occasionally muffled, with persistent drooling.\n",
    "                  2 He has not had a cough.\n",
    "                  3 The child recently immigrated from Africa, and the grandmother is unsure if his immunizations are up-to-date.\n",
    "                  4 He appears uncomfortable and is sitting up and leaning forward with his chin hyperextended.\n",
    "                  5 His temperature is 39.5 C (103.1 F), pulse is 110/min, and blood pressure is 90/70 mm\n",
    "                  6 Hg.\n",
    "                  7 Pulse oximetry on room air shows an oxygen saturation of 95%.\n",
    "                  8 Pulmonary examination shows inspiratory stridor and scattered rhonchi throughout both lung fields, along with poor air movement.\n",
    "                  9 Pharyngoscopy is ordered.```\n",
    "                  Error: yes\n",
    "                  Error Sentence ID: 9\n",
    "                  Error Sentence Span: Pharyngoscopy is ordered.\n",
    "                  Corrected Sentence: Nasotracheal intubation is performed.\n",
    "                \n",
    "                  Example 4:\n",
    "                  Clinical Text:```A 28-year-old man is brought to the emergency department after being struck by a car an hour ago as he was crossing the street. He did not lose consciousness. He is complaining of pain in his right arm, forehead, and pelvis. He also has the urge to urinate, but has been unable to do so since the accident. He takes no medications. His temperature is 37.1 C (98.9 F), pulse is 72/min, respirations are 18/min, and blood pressure is 118/82 mm Hg. There are abrasions over his scalp and face and a 1x3 cm area of ecchymosis above his right eye. Abdominal examination shows suprapubic tenderness. There is a scant amount of blood at the urethral meatus. There is no cervical spinal tenderness. Musculoskeletal examination shows tenderness and ecchymosis over his right distal forearm. An x-ray of the pelvis shows a fracture of the pelvic ramus. Retrograde urethrogram was then performed. A CT scan of the head and neck show no abnormalities.```\n",
    "                  Clinical Text Sentences: ```0 A 28-year-old man is brought to the emergency department after being struck by a car an hour ago as he was crossing the street.\n",
    "                  1 He did not lose consciousness.\n",
    "                  2 He is complaining of pain in his right arm, forehead, and pelvis.\n",
    "                  3 He also has the urge to urinate, but has been unable to do so since the accident.\n",
    "                  4 He takes no medications.\n",
    "                  5 His temperature is 37.1 C (98.9 F), pulse is 72/min, respirations are 18/min, and\n",
    "                  6 blood pressure is 118/82 mm\n",
    "                  7 Hg.\n",
    "                  8 There are abrasions over his scalp and face and a 1x3 cm area of ecchymosis above his right eye.\n",
    "                  9 Abdominal examination shows suprapubic tenderness.\n",
    "                  10 There is a scant amount of blood at the urethral meatus.\n",
    "                  11 There is no cervical spinal tenderness.\n",
    "                  12 Musculoskeletal examination shows tenderness and ecchymosis over his right distal forearm.\n",
    "                  13 An x-ray of the pelvis shows a fracture of the pelvic ramus.\n",
    "                  14 Retrograde urethrogram was then performed.\n",
    "                  15 A CT scan of the head and neck show no abnormalities.```\n",
    "                  Error: No\n",
    "                  Error Sentence ID: -1\n",
    "                  Error Sentence Span: -1\n",
    "                  Corrected Sentence: -1\n",
    "                \n",
    "                  Example 5:\n",
    "                  Clinical Text: ```A 28-year-old man is brought to the emergency department after being struck by a car an hour ago as he was crossing the street. He did not lose consciousness. He is complaining of pain in his right arm, forehead, and pelvis. He also has the urge to urinate, but has been unable to do so since the accident. He takes no medications. His temperature is 37.1 C (98.9 F), pulse is 72/min, respirations are 18/min, and blood pressure is 118/82 mm Hg. There are abrasions over his scalp and face and a 1x3 cm area of ecchymosis above his right eye. Abdominal examination shows suprapubic tenderness. There is a scant amount of blood at the urethral meatus. There is no cervical spinal tenderness. Musculoskeletal examination shows tenderness and ecchymosis over his right distal forearm. An x-ray of the pelvis shows a fracture of the pelvic ramus. A CT scan of the head and neck show no abnormalities. IV pyelogram was then performed.```\n",
    "                  Clinical Text Sentences: ```0 A 28-year-old man is brought to the emergency department after being struck by a car an hour ago as he was crossing the street.\n",
    "                  1 He did not lose consciousness.\n",
    "                  2 He is complaining of pain in his right arm, forehead, and pelvis.\n",
    "                  3 He also has the urge to urinate, but has been unable to do so since the accident.\n",
    "                  4 He takes no medications.\n",
    "                  5 His temperature is 37.1 C (98.9 F), pulse is 72/min, respirations are 18/min, and\n",
    "                  6 blood pressure is 118/82 mm\n",
    "                  7 Hg.\n",
    "                  8 There are abrasions over his scalp and face and a 1x3 cm area of ecchymosis above his right eye.\n",
    "                  9 Abdominal examination shows suprapubic tenderness.\n",
    "                  10 There is a scant amount of blood at the urethral meatus.\n",
    "                  11 There is no cervical spinal tenderness.\n",
    "                  12 Musculoskeletal examination shows tenderness and ecchymosis over his right distal forearm.\n",
    "                  13 An x-ray of the pelvis shows a fracture of the pelvic ramus.\n",
    "                  14 A CT scan of the head and neck show no abnormalities.\n",
    "                  15 IV pyelogram was then performed.```\n",
    "                  Error: yes\n",
    "                  Error Sentence ID: 15\n",
    "                  Error Sentence Span: IV pyelogram was then performed.\n",
    "                  Corrected Sentence: Retrograde urethrogram was then performed.\n",
    "                \n",
    "                  Example 6:\n",
    "                  Clinical Text: ```A previously healthy 25-year-old man comes to the physician because of a 4-day history of fever, joint and body pain, diffuse headache, and pain behind the eyes. This morning he noticed that his gums bled when he brushed his teeth. He returned from a backpacking trip to the Philippines 4 days ago. His temperature is 39.4 C (103.0 F). Physical examination shows a diffuse maculopapular rash. His leukocyte count is 3,200/mm3 and platelet count is 89,000/mm3. Further evaluation shows increased serum levels of a flavivirus. The patient is infected by the chikungunya virus.```\n",
    "                  Clinical Text Sentences: ```0 A previously healthy 25-year-old man comes to the physician because of a 4-day history of fever, joint and body pain, diffuse headache, and pain behind the eyes.\n",
    "                  1 This morning he noticed that his gums bled when he brushed his teeth.\n",
    "                  2 He returned from a backpacking trip to the Philippines 4 days ago.\n",
    "                  3 His temperature is 39.4 C (103.0 F).\n",
    "                  4 Physical examination shows a diffuse maculopapular rash.\n",
    "                  5 His leukocyte count is\n",
    "                  6 3,200/mm3 and platelet count is 89,000/mm3.\n",
    "                  7 Further evaluation shows increased serum levels of a flavivirus.\n",
    "                  8 The patient is infected by the chikungunya virus.```\n",
    "                  Error: yes\n",
    "                  Error Sentence ID: 8\n",
    "                  Error Sentence Span: The patient is infected by the chikungunya virus.\n",
    "                  Corrected Sentence: The patient is infected by the Dengue virus.\n",
    "                \n",
    "                  Example 7:\n",
    "                  Clinical Text: ```A previously healthy 25-year-old man comes to the physician with suspected Dengue viral infection because of a 4-day history of fever, joint and body pain, diffuse headache, and pain behind the eyes. This morning he noticed that his gums bled when he brushed his teeth. He returned from a backpacking trip to the Philippines 4 days ago. His temperature is 39.4 C (103.0 F). Physical examination shows a diffuse maculopapular rash. His leukocyte count is 3,200/mm3 and platelet count is 89,000/mm3. Further evaluation shows increased serum levels of a flavivirus.```\n",
    "                  Clinical Text Sentences: ```0 A previously healthy 25-year-old man comes to the physician with suspected Dengue viral infection because of a 4-day history of fever, joint and body pain, diffuse headache, and pain behind the eyes.\n",
    "                  1 This morning he noticed that his gums bled when he brushed his teeth.\n",
    "                  2 He returned from a backpacking trip to the Philippines 4 days ago.\n",
    "                  3 His temperature is 39.4 C (103.0 F).\n",
    "                  4 Physical examination shows a diffuse maculopapular rash.\n",
    "                  5 His leukocyte count is\n",
    "                  6 3,200/mm3 and platelet count is 89,000/mm3.\n",
    "                  7 Further evaluation shows increased serum levels of a flavivirus.```\n",
    "                  Error: No\n",
    "                  Error Sentence ID: -1\n",
    "                  Error Sentence Span: -1\n",
    "                  Corrected Sentence: -1\n",
    "                \n",
    "                  Now, given a new clinical text delimited by triple quotes, carefully evaluate and analyse the clinical information presented such as symptoms, clinical examination findings, patient history and other details. Determine if there is a diagnostic error or not based on this information. If an error is present, identify the specific sentence ID (and the sentence with that ID) that contains this error and also correct this erroneous sentence based on the rest of clinical text. Use your knowledge and the context provided to make your assessment.\n",
    "\n",
    "                  Clinical Text: ```{text}```\n",
    "                  Clinical Text Sentences: ```{clinical_sentences}```\n",
    "                \n",
    "                  Provide the answers in JSON Format with the following keys:\n",
    "                  Error, Error Sentence ID, Error Sentence, Corrected Sentence\n",
    "                  \"\"\"\n",
    "                  }]\n",
    "\n",
    "            completion = openai.ChatCompletion.create(engine=<engine name>,messages = message_text,\n",
    "                          temperature=0, max_tokens=800,\n",
    "                          top_p=0.95, frequency_penalty=0,\n",
    "                          presence_penalty=0, stop=None)\n",
    "            \n",
    "            message_content = completion[\"choices\"][0][\"message\"][\"content\"].strip('```json\\n').strip('\\n```')\n",
    "            message_content_json = json.loads(message_content)\n",
    "            # print(message_content_json)\n",
    "            df_val_ms.at[i, 'gpt_4_1106_preview_error_flag'] = message_content_json['Error']\n",
    "            df_val_ms.at[i, 'gpt_4_1106_preview_sentence_id'] = message_content_json['Error Sentence ID']\n",
    "            df_val_ms.at[i, 'gpt_4_1106_preview_Error_Sentence'] = message_content_json['Error Sentence']\n",
    "            df_val_ms.at[i, 'gpt_4_1106_preview_Corrected_Sentence'] = message_content_json['Corrected Sentence']\n",
    "            df_val_ms.to_csv('case_1_validMS_gpt_4_predictions_temp_file.csv',index=False)\n",
    "            break\n",
    "\n",
    "        except openai.error.APIConnectionError as e:\n",
    "            print(f\"Timeout error encountered at index {i}, attempt {retry_count + 1}: {e}\", flush=True)\n",
    "            retry_count += 1\n",
    "            time.sleep(default_wait_time)  # Wait before retrying\n",
    "\n",
    "        except openai.error.InvalidRequestError as e:\n",
    "            print(f\"InvalidRequestError at index {i}: {e}\", flush=True)\n",
    "            break\n",
    "\n",
    "        except openai.error.RateLimitError as e:\n",
    "            match = re.search(r\"Please retry after (\\d+) seconds\", str(e))\n",
    "            if match:\n",
    "                wait_time = int(match.group(1)) + 1  # Add a 1-second buffer\n",
    "            else:\n",
    "                wait_time = default_wait_time\n",
    "            print(f\"RateLimitError at index {i}. Retrying after {wait_time} seconds.\", flush=True)\n",
    "            time.sleep(wait_time)\n",
    "            retry_count += 1\n",
    "\n",
    "        except openai.error.OpenAIError as e:\n",
    "            print(f\"Unexpected OpenAIError encountered at index {i}: {e}\", flush=True)\n",
    "            break \n",
    "\n",
    "        except Exception as e:\n",
    "            print(f\"Unexpected error encountered at index {i}: {e}\", flush=True)\n",
    "            break\n",
    "\n",
    "df_val_ms.to_csv('case_1_validMS_gpt_4_predictions_26_03_2024.csv',index=False)\n",
    "print(\"Final csv saved!!\",flush=True)"
   ]
  },
  {
   "cell_type": "markdown",
   "id": "ed35eaad-56e8-4918-b21f-6c52bf592eb6",
   "metadata": {
    "jp-MarkdownHeadingCollapsed": true
   },
   "source": [
    "# Types of error i saw:\n",
    "\n",
    "1. Timeout: Request timed out: HTTPSConnectionPool(host='sweden-api.openai.azure.com', port=443): Read timed out. (read timeout=600)\n",
    "\n",
    "2. InvalidRequestError: The response was filtered due to the prompt triggering Azure OpenAI's content management policy. Please modify your prompt and retry. To learn more about our content filtering policies please read our documentation: https://go.microsoft.com/fwlink/?linkid=2198766\n",
    "\n",
    "3. Request timed out: HTTPSConnectionPool(host='sweden-api.openai.azure.com', port=443): Read timed out. (read timeout=600)\n"
   ]
  },
  {
   "cell_type": "markdown",
   "id": "d8fa0f00-a724-41f2-9cfd-50a733978fce",
   "metadata": {
    "jp-MarkdownHeadingCollapsed": true
   },
   "source": [
    "# Evaluation Scripts"
   ]
  },
  {
   "cell_type": "code",
   "execution_count": 274,
   "id": "539afe4e-025d-4c66-aaf2-2b6a16f7f068",
   "metadata": {},
   "outputs": [],
   "source": [
    "'''\n",
    "The submission format should follow the data format and consists of:\n",
    "\n",
    "[Text ID] [Error Flag] [Error sentence ID or -1 for texts without errors] [Corrected sentence or NA for texts without errors]\n",
    "'''\n",
    "import csv\n",
    "\n",
    "def csv_to_txt(input_csv, output_txt):\n",
    "    with open(input_csv, mode='r', encoding='utf-8') as infile, open(output_txt, mode='w', encoding='utf-8') as outfile:\n",
    "        reader = csv.DictReader(infile)\n",
    "        for row in reader:\n",
    "            text_id = row['Text ID']\n",
    "            error_flag = '1' if row['GPT_4_error_flag'].strip().lower() == 'yes' else '0'\n",
    "            sentence_id = row['GPT_4_sentence_id']\n",
    "            corrected_sentence = row['GPT_4_Corrected_Sentence']\n",
    "            if corrected_sentence == \"-1\":\n",
    "                corrected_sentence = \"NA\"\n",
    "            else:\n",
    "                corrected_sentence = f\"\\\"{corrected_sentence}\\\"\"\n",
    "            \n",
    "            line = f\"{text_id} {error_flag} {sentence_id} {corrected_sentence}\\n\"\n",
    "            outfile.write(line)\n",
    "\n",
    "# Usage\n",
    "csv_file = 'case_1.csv'  # Replace with your CSV file path\n",
    "txt_file = 'case_1.txt'  # The output TXT file path\n",
    "csv_to_txt(csv_file, txt_file)"
   ]
  },
  {
   "cell_type": "code",
   "execution_count": 278,
   "id": "7e650eb1-ac3a-43fe-b916-bb7af32ac4e9",
   "metadata": {},
   "outputs": [],
   "source": [
    "import csv\n",
    "\n",
    "def csv_to_txt(input_csv, output_txt):\n",
    "    with open(input_csv, mode='r', encoding='utf-8') as infile, open(output_txt, mode='w', encoding='utf-8') as outfile:\n",
    "        reader = csv.DictReader(infile)\n",
    "        for row in reader:\n",
    "            text_id = row['Text ID']\n",
    "            # Convert the flags to a uniform format (numerical) for comparison\n",
    "            original_error_flag = row['Error Flag'].strip()\n",
    "            gpt_error_flag = '1' if row['GPT_4_error_flag'].strip().lower() == 'yes' else '0'\n",
    "\n",
    "            # Proceed only if the error flags match\n",
    "            if original_error_flag == gpt_error_flag:\n",
    "                sentence_id = row['GPT_4_sentence_id']\n",
    "                corrected_sentence = row['GPT_4_Corrected_Sentence']\n",
    "                if corrected_sentence == \"-1\":\n",
    "                    corrected_sentence = \"NA\"\n",
    "                else:\n",
    "                    corrected_sentence = f\"\\\"{corrected_sentence}\\\"\"\n",
    "\n",
    "                # Formatting the line to be written in the text file\n",
    "                line = f\"{text_id} {gpt_error_flag} {sentence_id} {corrected_sentence}\\n\"\n",
    "                outfile.write(line)\n",
    "\n",
    "# Usage\n",
    "csv_file = 'case_1.csv'  # Replace with your CSV file path\n",
    "txt_file = 'case_1_GPT_accurate_cases.txt'  # The output TXT file path\n",
    "csv_to_txt(csv_file, txt_file)\n"
   ]
  },
  {
   "cell_type": "code",
   "execution_count": 266,
   "id": "9d8e0520-7b95-4959-b422-ac3416463ace",
   "metadata": {
    "scrolled": true
   },
   "outputs": [
    {
     "name": "stdout",
     "output_type": "stream",
     "text": [
      "Defaulting to user installation because normal site-packages is not writeable\n",
      "Collecting rouge\n",
      "  Downloading rouge-1.0.1-py3-none-any.whl.metadata (4.1 kB)\n",
      "Requirement already satisfied: six in /opt/modules/Python/3.11.5/lib/python3.11/site-packages (from rouge) (1.16.0)\n",
      "Downloading rouge-1.0.1-py3-none-any.whl (13 kB)\n",
      "Installing collected packages: rouge\n",
      "\u001b[33m  WARNING: The script rouge is installed in '/home/srajwal/.local/bin' which is not on PATH.\n",
      "  Consider adding this directory to PATH or, if you prefer to suppress this warning, use --no-warn-script-location.\u001b[0m\u001b[33m\n",
      "\u001b[0mSuccessfully installed rouge-1.0.1\n",
      "Note: you may need to restart the kernel to use updated packages.\n"
     ]
    }
   ],
   "source": [
    "pip install rouge"
   ]
  },
  {
   "cell_type": "code",
   "execution_count": 268,
   "id": "b5804871-e74d-4d4f-8762-a10bd4067e07",
   "metadata": {},
   "outputs": [],
   "source": [
    "import re\n",
    "import pandas as pd\n",
    "from rouge import Rouge\n",
    "import scipy.stats as stats\n",
    "import numpy as np\n",
    "import math\n",
    "import string"
   ]
  },
  {
   "cell_type": "code",
   "execution_count": 269,
   "id": "640e0cbe-2986-4ffc-aa1d-20c535112268",
   "metadata": {},
   "outputs": [],
   "source": [
    "#################\n",
    "# Parsing Funcs #\n",
    "#################\n",
    "\n",
    "\n",
    "def parse_reference_file(filepath):\n",
    "    \"\"\"Parsing reference file path.\n",
    "\n",
    "    Returns:\n",
    "        reference_corrections (dict) {text_id: \"reference correction\"}\n",
    "        reference_flags (dict) {text_id: \"1 or 0 error flag\"}\n",
    "        reference_sent_id (dict) {text_id: \"error sentence id or -1\"}\n",
    "    \n",
    "    \"\"\"\n",
    "\n",
    "    reference_corrections = {}\n",
    "    reference_flags = {}\n",
    "    reference_sent_id = {}\n",
    "\n",
    "    df = pd.read_csv(filepath)\n",
    "    \n",
    "    for index, row in df.iterrows():\n",
    "        text_id = row['Text ID']\n",
    "        corrected_sentence = row['Corrected Sentence']\n",
    "        \n",
    "        if not isinstance(corrected_sentence, str):\n",
    "            if math.isnan(corrected_sentence):\n",
    "                corrected_sentence = \"NA\"\n",
    "            else:\n",
    "                corrected_sentence = str(corrected_sentence)\n",
    "                corrected_sentence = corrected_sentence.replace(\"\\n\", \" \") \\\n",
    "                  .replace(\"\\r\", \" \").strip()\n",
    "                  \n",
    "        reference_corrections[text_id] = corrected_sentence\n",
    "        reference_flags[text_id] = str(row['Error Flag'])\n",
    "        reference_sent_id[text_id] = str(row['Error Sentence ID'])\n",
    "\n",
    "    return reference_corrections, reference_flags, reference_sent_id\n",
    "\n",
    "\n",
    "def parse_run_submission_file(filepath):\n",
    "    \n",
    "    file = open(filepath, 'r')\n",
    "\n",
    "    candidate_corrections = {}\n",
    "    predicted_flags = {}\n",
    "    candidate_sent_id = {}\n",
    "    \n",
    "    lines = file.readlines()\n",
    "    \n",
    "    for line in lines:\n",
    "        line = line.strip()\n",
    "        \n",
    "        if len(line) == 0:\n",
    "            continue\n",
    "            \n",
    "        if not re.fullmatch('[a-z0-9\\-]+\\s[0-9]+\\s\\-?[0-9]+\\s.+', line):\n",
    "            print(\"Invalid line: \", line)\n",
    "            continue\n",
    "            \n",
    "        # replacing consecutive spaces\n",
    "        line = re.sub('\\s+', line, ' ')\n",
    "        \n",
    "        # parsing\n",
    "        items = line.split()\n",
    "        text_id = items[0]\n",
    "        error_flag = items[1]\n",
    "        sentence_id = items[2]\n",
    "        corrected_sentence = ' '.join(items[3:]).strip()\n",
    "        \n",
    "        # debug - parsing check\n",
    "        # print(\"{} -- {} -- {} -- {}\".format(text_id, error_flag, sentence_id, corrected_sentence))\n",
    "\n",
    "        predicted_flags[text_id] = error_flag\n",
    "        candidate_sent_id[text_id] = sentence_id\n",
    "\n",
    "        # processing candidate corrections\n",
    "        # removing quotes\n",
    "\n",
    "        while corrected_sentence.startswith('\"') and len(corrected_sentence) > 1:\n",
    "            corrected_sentence = corrected_sentence[1:]\n",
    "            \n",
    "        while corrected_sentence.endswith('\"') and len(corrected_sentence) > 1:\n",
    "            corrected_sentence = corrected_sentence[:-1]\n",
    "                   \n",
    "        if error_flag == '0':\n",
    "            # enforcing \"NA\" in predicted non-errors (used for consistent/reliable eval)\n",
    "            candidate_corrections[text_id] = \"NA\"\n",
    "        else:\n",
    "            candidate_corrections[text_id] = corrected_sentence\n",
    "\n",
    "    return candidate_corrections, predicted_flags, candidate_sent_id\n",
    "\n",
    "\n",
    "##############\n",
    "# Eval Funcs #\n",
    "##############\n",
    "\n",
    "def compute_accuracy(reference_flags, reference_sent_id, predicted_flags, candidate_sent_id):\n",
    "    # Error Flags Accuracy (missing predictions are counted as false)\n",
    "    matching_flags_nb = 0\n",
    "    \n",
    "    for text_id in reference_flags:\n",
    "        if text_id in predicted_flags and reference_flags[text_id] == predicted_flags[text_id]:\n",
    "            matching_flags_nb += 1\n",
    "            \n",
    "    flags_accuracy = matching_flags_nb / len(reference_flags)\n",
    "    \n",
    "    # Error Sentence Detection Accuracy (missing predictions are counted as false)\n",
    "    matching_sentence_nb = 0\n",
    "    \n",
    "    for text_id in reference_sent_id:\n",
    "        if text_id in candidate_sent_id and candidate_sent_id[text_id] == reference_sent_id[text_id]:\n",
    "            matching_sentence_nb += 1\n",
    "            \n",
    "    sent_accuracy = matching_sentence_nb / len(reference_sent_id)\n",
    "\n",
    "    return {\n",
    "        \"Error Flags Accuracy\": flags_accuracy,\n",
    "        \"Error Sentence Detection Accuracy\": sent_accuracy\n",
    "    }\n",
    "\n",
    "def increment_counter(counters, counter_name):\n",
    "    counters[counter_name] = counters[counter_name] + 1\n",
    "\n",
    "class NLGMetrics(object):\n",
    "\n",
    "    def __init__(self, metrics = ['ROUGE']):\n",
    "        self.metrics = metrics\n",
    "    \n",
    "    def compute(self, references, predictions, counters):\n",
    "        results = {}\n",
    "        \n",
    "        if 'ROUGE' in self.metrics:\n",
    "            rouge = Rouge() \n",
    "            rouge_scores = rouge.get_scores(predictions, references)\n",
    "                            \n",
    "            rouge1f_scores = []\n",
    "            rouge2f_scores = []\n",
    "            rougeLf_scores = []\n",
    "            \n",
    "            for i in range(len(references)):\n",
    "                r1f = rouge_scores[i][\"rouge-1\"][\"f\"]\n",
    "                r2f = rouge_scores[i][\"rouge-2\"][\"f\"]\n",
    "                rlf = rouge_scores[i][\"rouge-l\"][\"f\"]\n",
    "                \n",
    "                rouge1f_scores.append(r1f)\t\n",
    "                rouge2f_scores.append(r2f)\n",
    "                rougeLf_scores.append(rlf)\n",
    "                \n",
    "            # for checking comparison with composite\n",
    "            rouge1check = np.array(rouge1f_scores).mean()\n",
    "            rouge2check = np.array(rouge2f_scores).mean()\n",
    "            rougeLcheck = np.array(rougeLf_scores).mean()\n",
    "\n",
    "            results['R1F_subset_check'] = rouge1check\n",
    "            results['R2F_subset_check'] = rouge2check\n",
    "            results['RLF_subset_check'] = rougeLcheck\n",
    "            \n",
    "            ###############################\n",
    "            # Composite score computation #\n",
    "            ###############################\n",
    "            \n",
    "            \"\"\"\n",
    "            NLG METRIC on sentence vs. sentence cases + ones or zeros \n",
    "            when either the reference or the candidate correction is NA\n",
    "            \"\"\"\n",
    "            \n",
    "            rouge1score = np.array(rouge1f_scores).sum()\n",
    "            rouge2score = np.array(rouge2f_scores).sum()\n",
    "            rougeLscore = np.array(rougeLf_scores).sum()\n",
    "            \n",
    "            composite_score_rouge1 = (rouge1score + counters[\"system_provided_correct_na\"]) / counters[\"total_texts\"]\n",
    "            composite_score_rouge2 = (rouge2score + counters[\"system_provided_correct_na\"]) / counters[\"total_texts\"]\n",
    "            composite_score_rougeL = (rougeLscore + counters[\"system_provided_correct_na\"]) / counters[\"total_texts\"]\n",
    "\n",
    "            results['R1FC'] = composite_score_rouge1\n",
    "            results['R2FC'] = composite_score_rouge2\n",
    "            results['RLFC'] = composite_score_rougeL\n",
    "\n",
    "        \n",
    "        return results\n",
    "\n",
    "\n",
    "def get_nlg_eval_data(reference_corrections, candidate_corrections, remove_nonprint = False):\n",
    "    references = []\n",
    "    predictions = []\n",
    "    \n",
    "    counters = {\n",
    "        \"total_texts\": 0,\n",
    "        \"reference_na\": 0,\n",
    "        \"total_system_texts\": 0,\n",
    "        \"system_provided_na\": 0,\n",
    "        \"system_provided_correct_na\": 0,\n",
    "    }\n",
    "    \n",
    "    for text_id in reference_corrections:\n",
    "        increment_counter(counters, \"total_texts\")\n",
    "        \n",
    "        # removing non ascii chars\n",
    "        reference_correction = reference_corrections[text_id]\n",
    "        \n",
    "        if remove_nonprint:\n",
    "            reference_correction = ''.join(filter(lambda x: x in string.printable, str(reference_correction)))\n",
    "            \n",
    "        if reference_correction == \"NA\":\n",
    "            increment_counter(counters, \"reference_na\")\n",
    "            \n",
    "        if text_id in candidate_corrections:\n",
    "            increment_counter(counters, \"total_system_texts\")\n",
    "            candidate = candidate_corrections[text_id]\n",
    "            \n",
    "            if remove_nonprint:\n",
    "                candidate = ''.join(filter(lambda x: x in string.printable, candidate))\n",
    "                \n",
    "            if candidate == \"NA\":\n",
    "                increment_counter(counters, \"system_provided_na\")\n",
    "                \n",
    "            # matching NA counts as 1\n",
    "            if reference_correction == \"NA\" and candidate == \"NA\":\n",
    "                increment_counter(counters, \"system_provided_correct_na\")\n",
    "                continue\n",
    "                \n",
    "            # Run provided \"NA\" when a correction was required (=> 0)\n",
    "            # or Run provided a correction when \"NA\" was required (=> 0)\n",
    "            if candidate == \"NA\" or reference_correction == \"NA\":\n",
    "                continue\n",
    "                \n",
    "            # remaining case is both reference and candidate are not \"NA\"\n",
    "            # both are inserted/added for ROUGE/BLEURT/etc. computation\n",
    "            references.append(reference_correction)\n",
    "            predictions.append(candidate)\n",
    "    \n",
    "\n",
    "    \n",
    "    return references, predictions, counters"
   ]
  },
  {
   "cell_type": "code",
   "execution_count": 275,
   "id": "c5290db4-af0f-46bc-8dc7-5c546064c9b2",
   "metadata": {},
   "outputs": [
    {
     "name": "stdout",
     "output_type": "stream",
     "text": [
      "Invalid line:  ms-train-426 0  \"nan\"\n",
      "Invalid line:  ms-train-637 0  \"nan\"\n",
      "Invalid line:  ms-train-750 0  \"nan\"\n",
      "Invalid line:  ms-train-937 0  \"nan\"\n",
      "Invalid line:  ms-train-938 0  \"nan\"\n",
      "Invalid line:  ms-train-968 0  \"nan\"\n",
      "Invalid line:  ms-train-969 0  \"nan\"\n",
      "Invalid line:  ms-train-1003 0  \"nan\"\n",
      "Invalid line:  ms-train-1108 0  \"nan\"\n",
      "Invalid line:  ms-train-1276 0  \"nan\"\n",
      "Accuracy Results:\n",
      " {'Error Flags Accuracy': 0.6359068067610781, 'Error Sentence Detection Accuracy': 0.6222019186843307}\n",
      "\n",
      "NLG Eval Results:\n",
      " {'R1F_subset_check': 0.5894396772329137, 'R2F_subset_check': 0.4736292629615664, 'RLF_subset_check': 0.5842031368423116, 'R1FC': 0.433533765068211, 'R2FC': 0.37644859512815443, 'RLFC': 0.430952574076224}\n",
      "\n",
      "{'total_texts': 2189, 'reference_na': 970, 'total_system_texts': 2179, 'system_provided_na': 447, 'system_provided_correct_na': 313}\n",
      "\n"
     ]
    }
   ],
   "source": [
    "submission_file = \"case_1.txt\"\n",
    "reference_csv_file = \"MEDIQA-CORR-2024-MS-TrainingData.csv\"\n",
    "\n",
    "reference_corrections, reference_flags, reference_sent_id = parse_reference_file(reference_csv_file)\n",
    "candidate_corrections, candidate_flags, candidate_sent_id = parse_run_submission_file(submission_file)\n",
    "\n",
    "# Accuracy\n",
    "accuracy_results = compute_accuracy(reference_flags, reference_sent_id, candidate_flags, candidate_sent_id)\n",
    "print(\"Accuracy Results:\\n\", accuracy_results)\n",
    "print()\n",
    "\n",
    "# NLG Eval for corrections\n",
    "references, predictions, counters = get_nlg_eval_data(reference_corrections, candidate_corrections)\n",
    "metrics = NLGMetrics()\n",
    "nlg_eval_results = metrics.compute(references, predictions, counters) \n",
    "\n",
    "print(\"NLG Eval Results:\\n\", nlg_eval_results) \n",
    "print()\n",
    "\n",
    "# debug check\n",
    "print(counters)\n",
    "print()"
   ]
  }
 ],
 "metadata": {
  "kernelspec": {
   "display_name": "Python 3 (ipykernel)",
   "language": "python",
   "name": "python3"
  },
  "language_info": {
   "codemirror_mode": {
    "name": "ipython",
    "version": 3
   },
   "file_extension": ".py",
   "mimetype": "text/x-python",
   "name": "python",
   "nbconvert_exporter": "python",
   "pygments_lexer": "ipython3",
   "version": "3.11.5"
  }
 },
 "nbformat": 4,
 "nbformat_minor": 5
}
